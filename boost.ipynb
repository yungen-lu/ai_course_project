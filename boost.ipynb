{
 "cells": [
  {
   "cell_type": "code",
   "execution_count": 6,
   "metadata": {},
   "outputs": [],
   "source": [
    "from sklearn.metrics import classification_report\n",
    "from sklearn.model_selection import train_test_split\n",
    "from sklearn.model_selection import KFold\n",
    "import pandas as pd\n",
    "from imblearn.under_sampling import RandomUnderSampler\n",
    "from sklearn.ensemble import AdaBoostClassifier\n",
    "rus = RandomUnderSampler(random_state=42)\n"
   ]
  },
  {
   "cell_type": "code",
   "execution_count": 7,
   "metadata": {},
   "outputs": [],
   "source": [
    "def custom_scoring(y_true, y_pred, verbose=False):\n",
    "    report = classification_report(y_true, y_pred, output_dict=True)\n",
    "    total_f1 = 0\n",
    "    beta_weights = {\n",
    "        '1': 0.5,\n",
    "        '2': 1,\n",
    "        '3': 1,\n",
    "        '4': 2,\n",
    "    }\n",
    "    for cl in range(1, 5):\n",
    "        pr = report[str(cl)]['precision']\n",
    "        rc = report[str(cl)]['recall']\n",
    "        beta = beta_weights[str(cl)]\n",
    "        beta_f1 = ((1+beta**2)*pr*rc)/(pr*(beta**2) + rc)\n",
    "        if verbose: \n",
    "            print(f'beta f1 for level [{cl}]: {beta_f1}, pr: {pr}, rc: {rc}')\n",
    "        total_f1 += beta_f1\n",
    "\n",
    "    avg_f1 = total_f1/4\n",
    "    if verbose:\n",
    "        print(f\"macro avg for f1: {avg_f1}\")\n",
    "    return avg_f1\n",
    "\n",
    "def cross_valid(X, y, estimator, cv=5, verbose=False):\n",
    "    round = 1\n",
    "    total_f1 = 0\n",
    "    x_train_valid, x_test, y_train_valid, y_test = train_test_split(X, y, test_size=0.2, stratify=y)\n",
    "    x_train_valid.reset_index()\n",
    "    kf = KFold(n_splits=cv, shuffle=True, random_state=42)\n",
    "    print('Validation data')\n",
    "    for i, (train_index, valid_index) in enumerate(kf.split(x_train_valid)):\n",
    "        x_train, x_valid = x_train_valid.iloc[train_index], x_train_valid.iloc[valid_index]\n",
    "        y_train, y_valid = y_train_valid.iloc[train_index], y_train_valid.iloc[valid_index]\n",
    "        \n",
    "        x_train_balan, y_train_balan = rus.fit_resample(x_train, y_train)\n",
    "        # if verbose:\n",
    "        #     print('After under sampling:')\n",
    "        #     print(f'Length of training data: {len(x_train_balan)}, and its distribution among each severity {Counter(y_train_balan)}')\n",
    "\n",
    "        estimator.fit(x_train_balan, y_train_balan)\n",
    "        y_valid_pred = estimator.predict(x_valid)\n",
    "        beta_f1 = custom_scoring(y_valid, y_valid_pred, verbose=False)\n",
    "        print(f'Round {round} beta_f1: {beta_f1}')\n",
    "        total_f1 += beta_f1\n",
    "        round += 1\n",
    "        \n",
    "    avg_betaf1 = total_f1 / cv\n",
    "    print(f'average beta f1-score: {avg_betaf1}')\n",
    "\n",
    "    print('Testing data')\n",
    "    y_test_pred = estimator.predict(x_test)\n",
    "    print(classification_report(y_test, y_test_pred))\n",
    "    beta_f1 = custom_scoring(y_test, y_test_pred, verbose=True)\n",
    "    print(f'beta f1-score: {beta_f1}')"
   ]
  },
  {
   "cell_type": "code",
   "execution_count": 8,
   "metadata": {},
   "outputs": [],
   "source": [
    "ori_data = pd.read_csv('./data/v2-4.csv', index_col=False)\n"
   ]
  },
  {
   "cell_type": "code",
   "execution_count": 9,
   "metadata": {},
   "outputs": [],
   "source": [
    "X = ori_data.drop(['Severity'], axis=1)\n",
    "y = ori_data['Severity']\n"
   ]
  },
  {
   "cell_type": "code",
   "execution_count": 10,
   "metadata": {},
   "outputs": [
    {
     "name": "stdout",
     "output_type": "stream",
     "text": [
      "Validation data\n",
      "Round 1 beta_f1: 0.36220969886891213\n",
      "Round 2 beta_f1: 0.3665334695041274\n",
      "Round 3 beta_f1: 0.36813004699879154\n",
      "Round 4 beta_f1: 0.3656167302070351\n",
      "Round 5 beta_f1: 0.37081120791729877\n",
      "average beta f1-score: 0.3666602306992329\n",
      "Testing data\n",
      "              precision    recall  f1-score   support\n",
      "\n",
      "           1       0.06      0.87      0.11     13140\n",
      "           2       0.93      0.45      0.61   1191687\n",
      "           3       0.47      0.64      0.54    252647\n",
      "           4       0.07      0.71      0.13     38727\n",
      "\n",
      "    accuracy                           0.50   1496201\n",
      "   macro avg       0.38      0.67      0.35   1496201\n",
      "weighted avg       0.83      0.50      0.58   1496201\n",
      "\n",
      "beta f1 for level [1]: 0.07524203825023926, pr: 0.061257654516299144, rc: 0.8663622526636225\n",
      "beta f1 for level [2]: 0.610540735579274, pr: 0.9332782065734345, rc: 0.4536602312519982\n",
      "beta f1 for level [3]: 0.5442799786675253, pr: 0.4722271532795735, rc: 0.642279544186157\n",
      "beta f1 for level [4]: 0.25464025679744384, pr: 0.07128901965338805, rc: 0.7132491543367676\n",
      "macro avg for f1: 0.37117575232362066\n",
      "beta f1-score: 0.37117575232362066\n"
     ]
    }
   ],
   "source": [
    "clf = AdaBoostClassifier(n_estimators=100)\n",
    "cross_valid(X, y, clf, verbose=True)"
   ]
  },
  {
   "cell_type": "code",
   "execution_count": null,
   "metadata": {},
   "outputs": [],
   "source": []
  }
 ],
 "metadata": {
  "kernelspec": {
   "display_name": "traffic-accident-predict-4yLnMnDS-py3.9",
   "language": "python",
   "name": "python3"
  },
  "language_info": {
   "codemirror_mode": {
    "name": "ipython",
    "version": 3
   },
   "file_extension": ".py",
   "mimetype": "text/x-python",
   "name": "python",
   "nbconvert_exporter": "python",
   "pygments_lexer": "ipython3",
   "version": "3.9.18"
  }
 },
 "nbformat": 4,
 "nbformat_minor": 2
}
