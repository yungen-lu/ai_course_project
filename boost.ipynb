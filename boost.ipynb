{
 "cells": [
  {
   "cell_type": "code",
   "execution_count": 1,
   "metadata": {},
   "outputs": [],
   "source": [
    "from sklearn.metrics import classification_report\n",
    "import pandas as pd\n",
    "from imblearn.under_sampling import RandomUnderSampler\n",
    "rus = RandomUnderSampler(random_state=42)\n"
   ]
  },
  {
   "cell_type": "code",
   "execution_count": 2,
   "metadata": {},
   "outputs": [],
   "source": [
    "ori_data = pd.read_csv('./data/v2-4.csv', index_col=False)\n"
   ]
  },
  {
   "cell_type": "code",
   "execution_count": 3,
   "metadata": {},
   "outputs": [],
   "source": [
    "X = ori_data.drop(['Severity'], axis=1)\n",
    "y = ori_data['Severity']\n"
   ]
  },
  {
   "cell_type": "markdown",
   "metadata": {},
   "source": [
    "## Model"
   ]
  },
  {
   "cell_type": "code",
   "execution_count": 4,
   "metadata": {},
   "outputs": [],
   "source": [
    "from sklearn.ensemble import AdaBoostClassifier\n",
    "from sklearn.model_selection import train_test_split\n",
    "from metrics import cross_valid, test\n"
   ]
  },
  {
   "cell_type": "code",
   "execution_count": 5,
   "metadata": {},
   "outputs": [],
   "source": [
    "x_train_valid, x_test, y_train_valid, y_test = train_test_split(X, y, test_size=0.2, stratify=y)\n"
   ]
  },
  {
   "cell_type": "markdown",
   "metadata": {},
   "source": [
    "## Direct Testing"
   ]
  },
  {
   "cell_type": "markdown",
   "metadata": {},
   "source": [
    "### AdaBoost\n"
   ]
  },
  {
   "cell_type": "code",
   "execution_count": 6,
   "metadata": {},
   "outputs": [],
   "source": [
    "# ada_clf = AdaBoostClassifier(n_estimators=100)\n",
    "# ada_clf.fit(x_train_valid, y_train_valid)\n",
    "# test(ada_clf, x_test, y_test)"
   ]
  },
  {
   "cell_type": "markdown",
   "metadata": {},
   "source": [
    "## KFold cross validation\n"
   ]
  },
  {
   "cell_type": "markdown",
   "metadata": {},
   "source": [
    "### AdaBoost"
   ]
  },
  {
   "cell_type": "markdown",
   "metadata": {},
   "source": [
    "AdaBoost without balance dataset"
   ]
  },
  {
   "cell_type": "code",
   "execution_count": 7,
   "metadata": {},
   "outputs": [
    {
     "name": "stdout",
     "output_type": "stream",
     "text": [
      "Validation data\n",
      "macro beta f1: 0.3686939489295118\n",
      "weighted beta f1: 0.7992810465067687\n",
      "Round 0 macro beta f1-score: 0.3686939489295118\n",
      "Round 0 weighted beta f1-score: 0.7992810465067687\n",
      "macro beta f1: 0.379208561701853\n",
      "weighted beta f1: 0.7998666458324335\n",
      "Round 1 macro beta f1-score: 0.379208561701853\n",
      "Round 1 weighted beta f1-score: 0.7998666458324335\n",
      "macro beta f1: 0.36689171056348546\n",
      "weighted beta f1: 0.796518738374748\n",
      "Round 2 macro beta f1-score: 0.36689171056348546\n",
      "Round 2 weighted beta f1-score: 0.796518738374748\n",
      "macro beta f1: 0.3617903990919791\n",
      "weighted beta f1: 0.7943231661950982\n",
      "Round 3 macro beta f1-score: 0.3617903990919791\n",
      "Round 3 weighted beta f1-score: 0.7943231661950982\n",
      "macro beta f1: 0.3819926782384319\n",
      "weighted beta f1: 0.7999564756970824\n",
      "Round 4 macro beta f1-score: 0.3819926782384319\n",
      "Round 4 weighted beta f1-score: 0.7999564756970824\n",
      "average macro beta f1-score after kfold: 0.37171545970505226\n",
      "average weighted beta f1-score after kfold: 0.7979892145212262\n",
      "Testing data:\n",
      "              precision    recall  f1-score   support\n",
      "\n",
      "           1       0.23      0.04      0.07     13140\n",
      "           2       0.85      0.97      0.90   1191687\n",
      "           3       0.70      0.35      0.47    252647\n",
      "           4       0.18      0.02      0.04     38727\n",
      "\n",
      "    accuracy                           0.83   1496201\n",
      "   macro avg       0.49      0.35      0.37   1496201\n",
      "weighted avg       0.80      0.83      0.80   1496201\n",
      "\n",
      "macro beta f1: 0.38037664966691814\n",
      "weighted beta f1: 0.7994153857752925\n"
     ]
    }
   ],
   "source": [
    "ada_clf = AdaBoostClassifier()\n",
    "cross_valid(x_train_valid, y_train_valid, ada_clf, verbose=True, balance_cls=False)\n",
    "test(ada_clf, x_test, y_test)"
   ]
  },
  {
   "cell_type": "markdown",
   "metadata": {},
   "source": [
    "AdaBoost with balance dataset"
   ]
  },
  {
   "cell_type": "code",
   "execution_count": 8,
   "metadata": {},
   "outputs": [
    {
     "name": "stdout",
     "output_type": "stream",
     "text": [
      "Validation data\n",
      "After under sampling:\n",
      "Length of training data: 168308, and its distribution among each severity Counter({1: 42077, 2: 42077, 3: 42077, 4: 42077})\n",
      "macro beta f1: 0.35043577164940026\n",
      "weighted beta f1: 0.5489325632496578\n",
      "Round 0 macro beta f1-score: 0.35043577164940026\n",
      "Round 0 weighted beta f1-score: 0.5489325632496578\n",
      "After under sampling:\n",
      "Length of training data: 167784, and its distribution among each severity Counter({1: 41946, 2: 41946, 3: 41946, 4: 41946})\n",
      "macro beta f1: 0.35621505270621806\n",
      "weighted beta f1: 0.562253924290908\n",
      "Round 1 macro beta f1-score: 0.35621505270621806\n",
      "Round 1 weighted beta f1-score: 0.562253924290908\n",
      "After under sampling:\n",
      "Length of training data: 167748, and its distribution among each severity Counter({1: 41937, 2: 41937, 3: 41937, 4: 41937})\n",
      "macro beta f1: 0.3566070688046403\n",
      "weighted beta f1: 0.5580530778026437\n",
      "Round 2 macro beta f1-score: 0.3566070688046403\n",
      "Round 2 weighted beta f1-score: 0.5580530778026437\n",
      "After under sampling:\n",
      "Length of training data: 168416, and its distribution among each severity Counter({1: 42104, 2: 42104, 3: 42104, 4: 42104})\n",
      "macro beta f1: 0.34922598160589907\n",
      "weighted beta f1: 0.5419260441265064\n",
      "Round 3 macro beta f1-score: 0.34922598160589907\n",
      "Round 3 weighted beta f1-score: 0.5419260441265064\n",
      "After under sampling:\n",
      "Length of training data: 168688, and its distribution among each severity Counter({1: 42172, 2: 42172, 3: 42172, 4: 42172})\n",
      "macro beta f1: 0.35561684324487475\n",
      "weighted beta f1: 0.5536891955399608\n",
      "Round 4 macro beta f1-score: 0.35561684324487475\n",
      "Round 4 weighted beta f1-score: 0.5536891955399608\n",
      "average macro beta f1-score after kfold: 0.3536201436022065\n",
      "average weighted beta f1-score after kfold: 0.5529709610019353\n",
      "Testing data:\n",
      "              precision    recall  f1-score   support\n",
      "\n",
      "           1       0.06      0.86      0.11     13140\n",
      "           2       0.93      0.41      0.57   1191687\n",
      "           3       0.48      0.61      0.53    252647\n",
      "           4       0.07      0.75      0.12     38727\n",
      "\n",
      "    accuracy                           0.46   1496201\n",
      "   macro avg       0.38      0.66      0.33   1496201\n",
      "weighted avg       0.82      0.46      0.55   1496201\n",
      "\n",
      "macro beta f1: 0.35525478956556217\n",
      "weighted beta f1: 0.5538363556441758\n"
     ]
    }
   ],
   "source": [
    "ada_clf = AdaBoostClassifier()\n",
    "cross_valid(x_train_valid, y_train_valid, ada_clf, verbose=True, balance_cls=True)\n",
    "test(ada_clf, x_test, y_test)\n"
   ]
  }
 ],
 "metadata": {
  "kernelspec": {
   "display_name": "traffic-accident-predict-4yLnMnDS-py3.9",
   "language": "python",
   "name": "python3"
  },
  "language_info": {
   "codemirror_mode": {
    "name": "ipython",
    "version": 3
   },
   "file_extension": ".py",
   "mimetype": "text/x-python",
   "name": "python",
   "nbconvert_exporter": "python",
   "pygments_lexer": "ipython3",
   "version": "3.9.18"
  }
 },
 "nbformat": 4,
 "nbformat_minor": 2
}
