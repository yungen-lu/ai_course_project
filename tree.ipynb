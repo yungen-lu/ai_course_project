{
 "cells": [
  {
   "cell_type": "code",
   "execution_count": 4,
   "metadata": {},
   "outputs": [],
   "source": [
    "import pandas as pd\n",
    "from sklearn.model_selection import train_test_split\n",
    "from sklearn.metrics import classification_report\n",
    "from sklearn.ensemble import RandomForestClassifier, GradientBoostingClassifier, AdaBoostClassifier, StackingClassifier\n",
    "from sklearn.tree import DecisionTreeClassifier\n",
    "from collections import Counter\n",
    "from sklearn.svm import LinearSVC\n",
    "from sklearn.pipeline import make_pipeline\n",
    "from sklearn.linear_model import LogisticRegression\n",
    "from sklearn.preprocessing import StandardScaler\n",
    "from imblearn.under_sampling import RandomUnderSampler\n",
    "rus = RandomUnderSampler(random_state=42)"
   ]
  },
  {
   "cell_type": "code",
   "execution_count": 2,
   "metadata": {},
   "outputs": [],
   "source": [
    "ori_data = pd.read_csv('./data/v2-3.csv', index_col=False)\n",
    "numerical_features = [\n",
    "    'Distance(mi)', 'Temperature(F)', 'Humidity(%)', 'Pressure(in)', 'Visibility(mi)',\n",
    "    'Wind_Speed(mph)', 'elapsed_time'\n",
    "]\n",
    "\n",
    "info_cols = ['Severity', 'Start_Lat', 'Start_Lng', 'Weather_Timestamp', 'Hour', 'Day', 'Minute']\n",
    "categorical_features = [f for f in list(ori_data.columns) if (f not in numerical_features and f not in info_cols)]"
   ]
  },
  {
   "cell_type": "code",
   "execution_count": 7,
   "metadata": {},
   "outputs": [],
   "source": [
    "# X = ori_data.drop(info_cols, axis=1)\n",
    "X = ori_data.drop(['Severity'], axis=1)\n",
    "y = ori_data['Severity']"
   ]
  },
  {
   "cell_type": "code",
   "execution_count": 5,
   "metadata": {},
   "outputs": [],
   "source": [
    "def custom_scoring(y_true, y_pred, verbose=False):\n",
    "    report = classification_report(y_true, y_pred, output_dict=True)\n",
    "    weighted_beta_f1 = 0\n",
    "    beta_weights = {\n",
    "        '1': 0.5,\n",
    "        '2': 1,\n",
    "        '3': 1,\n",
    "        '4': 2,\n",
    "    }\n",
    "    print(report)\n",
    "    total_data_count = report['weighted avg']['support']\n",
    "    for cl in range(1, 5):\n",
    "        pr = report[str(cl)]['precision']\n",
    "        rc = report[str(cl)]['recall']\n",
    "        beta = beta_weights[str(cl)]\n",
    "        beta_f1 = ((1+beta**2)*pr*rc)/(pr*(beta**2) + rc)\n",
    "        if verbose: \n",
    "            print(f'beta f1 for level [{cl}]: {beta_f1}, pr: {pr}, rc: {rc}')\n",
    "\n",
    "        support_proportion = report[str(cl)]['support'] / total_data_count\n",
    "        weighted_beta_f1 += beta_f1 * support_proportion\n",
    "\n",
    "    if verbose:\n",
    "        print(f\"macro avg for f1: {weighted_beta_f1}\")\n",
    "    return weighted_beta_f1"
   ]
  },
  {
   "cell_type": "code",
   "execution_count": 6,
   "metadata": {},
   "outputs": [],
   "source": [
    "from sklearn.model_selection import KFold\n",
    "\n",
    "def cross_valid(X, y, estimator, cv=5, verbose=False):\n",
    "    round = 1\n",
    "    total_f1 = 0\n",
    "    x_train_valid, x_test, y_train_valid, y_test = train_test_split(X, y, test_size=0.2, stratify=y)\n",
    "    x_train_valid.reset_index()\n",
    "    kf = KFold(n_splits=cv, shuffle=True, random_state=42)\n",
    "    print('Validation data')\n",
    "    for i, (train_index, valid_index) in enumerate(kf.split(x_train_valid)):\n",
    "        x_train, x_valid = x_train_valid.iloc[train_index], x_train_valid.iloc[valid_index]\n",
    "        y_train, y_valid = y_train_valid.iloc[train_index], y_train_valid.iloc[valid_index]\n",
    "        \n",
    "        x_train_balan, y_train_balan = rus.fit_resample(x_train, y_train)\n",
    "        if verbose:\n",
    "            print('After under sampling:')\n",
    "            print(f'Length of training data: {len(x_train_balan)}, and its distribution among each severity {Counter(y_train_balan)}')\n",
    "\n",
    "        estimator.fit(x_train_balan, y_train_balan)\n",
    "        y_valid_pred = estimator.predict(x_valid)\n",
    "        beta_f1 = custom_scoring(y_valid, y_valid_pred, verbose=False)\n",
    "        print(f'Round {round} beta_f1: {beta_f1}')\n",
    "        total_f1 += beta_f1\n",
    "        round += 1\n",
    "        \n",
    "    avg_betaf1 = total_f1 / cv\n",
    "    print(f'average beta f1-score: {avg_betaf1}')\n",
    "\n",
    "    print('Testing data')\n",
    "    y_test_pred = estimator.predict(x_test)\n",
    "    print(classification_report(y_test, y_test_pred))\n",
    "    beta_f1 = custom_scoring(y_test, y_test_pred, verbose=True)\n",
    "    print(f'beta f1-score: {beta_f1}')\n",
    "        \n",
    "\n",
    "        "
   ]
  },
  {
   "cell_type": "markdown",
   "metadata": {},
   "source": [
    "## Imbalance testing data"
   ]
  },
  {
   "cell_type": "code",
   "execution_count": 9,
   "metadata": {},
   "outputs": [
    {
     "name": "stdout",
     "output_type": "stream",
     "text": [
      "Validation data\n",
      "Round 1 beta_f1: 0.4271604031648384\n",
      "Round 2 beta_f1: 0.427099841295834\n",
      "Round 3 beta_f1: 0.42763935014333465\n",
      "Round 4 beta_f1: 0.4265807389799974\n",
      "Round 5 beta_f1: 0.4289833962211148\n",
      "average beta f1-score: 0.4274927459610239\n",
      "Testing data\n",
      "              precision    recall  f1-score   support\n",
      "\n",
      "           1       0.09      0.84      0.17     13140\n",
      "           2       0.93      0.59      0.72   1191687\n",
      "           3       0.45      0.67      0.54    252647\n",
      "           4       0.11      0.71      0.19     38727\n",
      "\n",
      "    accuracy                           0.61   1496201\n",
      "   macro avg       0.40      0.70      0.40   1496201\n",
      "weighted avg       0.82      0.61      0.67   1496201\n",
      "\n",
      "beta f1 for level [1]: 0.11258944452185603, pr: 0.09256389090112704, rc: 0.8363013698630137\n",
      "beta f1 for level [2]: 0.723507933455832, pr: 0.9339817114367898, rc: 0.5904495056168272\n",
      "beta f1 for level [3]: 0.5392407985048071, pr: 0.4531206646211535, rc: 0.6657787347563993\n",
      "beta f1 for level [4]: 0.33637400228050174, pr: 0.10848290015302672, rc: 0.7084204818343791\n",
      "macro avg for f1: 0.4279280446907492\n",
      "beta f1-score: 0.4279280446907492\n"
     ]
    }
   ],
   "source": [
    "dt = DecisionTreeClassifier()\n",
    "cross_valid(X, y, dt, verbose=True)"
   ]
  },
  {
   "cell_type": "code",
   "execution_count": 40,
   "metadata": {},
   "outputs": [
    {
     "name": "stdout",
     "output_type": "stream",
     "text": [
      "              precision    recall  f1-score   support\n",
      "\n",
      "           1       0.85      0.89      0.87     13140\n",
      "           2       0.69      0.53      0.60     13140\n",
      "           3       0.72      0.74      0.73     13140\n",
      "           4       0.71      0.82      0.76     13140\n",
      "\n",
      "    accuracy                           0.75     52560\n",
      "   macro avg       0.74      0.75      0.74     52560\n",
      "weighted avg       0.74      0.75      0.74     52560\n",
      "\n",
      "beta f1 for level [1]: 0.8610980068404293, pr: 0.8543845534995977, rc: 0.8890410958904109\n",
      "beta f1 for level [2]: 0.6013835775362008, pr: 0.690614822856015, rc: 0.532572298325723\n",
      "beta f1 for level [3]: 0.7303509362036102, pr: 0.7175589336858339, rc: 0.743607305936073\n",
      "beta f1 for level [4]: 0.7945699218576894, pr: 0.7107088590870053, rc: 0.8187214611872146\n",
      "macro avg for f1: 0.7468506106094824\n"
     ]
    },
    {
     "data": {
      "text/plain": [
       "0.7468506106094824"
      ]
     },
     "execution_count": 40,
     "metadata": {},
     "output_type": "execute_result"
    }
   ],
   "source": [
    "abc = AdaBoostClassifier(estimator=DecisionTreeClassifier(max_depth=15), n_estimators=100)\n",
    "abc.fit(x_res, y_res)\n",
    "y_pred = abc.predict(x_res_test)\n",
    "\n",
    "print(classification_report(y_res_test, y_pred))\n",
    "custom_scoring(y_res_test, y_pred, verbose=True)"
   ]
  }
 ],
 "metadata": {
  "kernelspec": {
   "display_name": ".venv",
   "language": "python",
   "name": "python3"
  },
  "language_info": {
   "codemirror_mode": {
    "name": "ipython",
    "version": 3
   },
   "file_extension": ".py",
   "mimetype": "text/x-python",
   "name": "python",
   "nbconvert_exporter": "python",
   "pygments_lexer": "ipython3",
   "version": "3.11.6"
  }
 },
 "nbformat": 4,
 "nbformat_minor": 2
}
