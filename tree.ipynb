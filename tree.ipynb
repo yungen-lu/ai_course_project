{
 "cells": [
  {
   "cell_type": "code",
   "execution_count": 23,
   "metadata": {},
   "outputs": [],
   "source": [
    "import pandas as pd\n",
    "from sklearn.model_selection import train_test_split\n",
    "from sklearn.metrics import classification_report\n",
    "from sklearn.ensemble import RandomForestClassifier, GradientBoostingClassifier, AdaBoostClassifier, StackingClassifier\n",
    "from sklearn.tree import DecisionTreeClassifier\n",
    "from collections import Counter\n",
    "from sklearn.svm import LinearSVC\n",
    "from sklearn.pipeline import make_pipeline\n",
    "from sklearn.linear_model import LogisticRegression\n",
    "from sklearn.preprocessing import StandardScaler\n",
    "from imblearn.under_sampling import RandomUnderSampler\n",
    "rus = RandomUnderSampler(random_state=42)"
   ]
  },
  {
   "cell_type": "code",
   "execution_count": 24,
   "metadata": {},
   "outputs": [],
   "source": [
    "ori_data = pd.read_csv('./data/v2-4.csv', index_col=False)\n",
    "numerical_features = [\n",
    "    'Distance(mi)', 'Temperature(F)', 'Humidity(%)', 'Pressure(in)', 'Visibility(mi)',\n",
    "    'Wind_Speed(mph)', 'elapsed_time'\n",
    "]\n",
    "\n",
    "info_cols = ['Severity', 'Start_Lat', 'Start_Lng', 'Hour', 'Day', 'Minute']\n",
    "categorical_features = [f for f in list(ori_data.columns) if (f not in numerical_features and f not in info_cols)]"
   ]
  },
  {
   "cell_type": "code",
   "execution_count": 25,
   "metadata": {},
   "outputs": [],
   "source": [
    "# X_b = ori_data.drop(info_cols, axis=1)\n",
    "X = ori_data.drop(['Severity'], axis=1)\n",
    "y = ori_data['Severity']"
   ]
  },
  {
   "cell_type": "code",
   "execution_count": 26,
   "metadata": {},
   "outputs": [],
   "source": [
    "def custom_scoring(y_true, y_pred, verbose=False):\n",
    "    report = classification_report(y_true, y_pred, output_dict=True)\n",
    "    weighted_beta_f1 = 0\n",
    "    beta_weights = {\n",
    "        '1': 0.5,\n",
    "        '2': 1,\n",
    "        '3': 1,\n",
    "        '4': 2,\n",
    "    }\n",
    "    print(report)\n",
    "    total_data_count = report['weighted avg']['support']\n",
    "    for cl in range(1, 5):\n",
    "        pr = report[str(cl)]['precision']\n",
    "        rc = report[str(cl)]['recall']\n",
    "        beta = beta_weights[str(cl)]\n",
    "        beta_f1 = ((1+beta**2)*pr*rc)/(pr*(beta**2) + rc)\n",
    "        if verbose: \n",
    "            print(f'beta f1 for level [{cl}]: {beta_f1}, pr: {pr}, rc: {rc}')\n",
    "\n",
    "        support_proportion = report[str(cl)]['support'] / total_data_count\n",
    "        weighted_beta_f1 += beta_f1 * support_proportion\n",
    "\n",
    "    if verbose:\n",
    "        print(f\"macro avg for f1: {weighted_beta_f1}\")\n",
    "    return weighted_beta_f1"
   ]
  },
  {
   "cell_type": "code",
   "execution_count": 27,
   "metadata": {},
   "outputs": [],
   "source": [
    "from sklearn.model_selection import KFold\n",
    "\n",
    "def cross_valid(X, y, estimator, cv=5, verbose=False):\n",
    "    round = 1\n",
    "    total_f1 = 0\n",
    "    x_train_valid, x_test, y_train_valid, y_test = train_test_split(X, y, test_size=0.2, stratify=y)\n",
    "    x_train_valid.reset_index()\n",
    "    kf = KFold(n_splits=cv, shuffle=True, random_state=42)\n",
    "    print('Validation data')\n",
    "    for i, (train_index, valid_index) in enumerate(kf.split(x_train_valid)):\n",
    "        x_train, x_valid = x_train_valid.iloc[train_index], x_train_valid.iloc[valid_index]\n",
    "        y_train, y_valid = y_train_valid.iloc[train_index], y_train_valid.iloc[valid_index]\n",
    "        \n",
    "        x_train_balan, y_train_balan = rus.fit_resample(x_train, y_train)\n",
    "        if verbose:\n",
    "            print('After under sampling:')\n",
    "            print(f'Length of training data: {len(x_train_balan)}, and its distribution among each severity {Counter(y_train_balan)}')\n",
    "\n",
    "        estimator.fit(x_train_balan, y_train_balan)\n",
    "        y_valid_pred = estimator.predict(x_valid)\n",
    "        beta_f1 = custom_scoring(y_valid, y_valid_pred, verbose=False)\n",
    "        print(f'Round {round} beta_f1: {beta_f1}')\n",
    "        total_f1 += beta_f1\n",
    "        round += 1\n",
    "        \n",
    "    avg_betaf1 = total_f1 / cv\n",
    "    print(f'average beta f1-score: {avg_betaf1}')\n",
    "\n",
    "    print('Testing data')\n",
    "    y_test_pred = estimator.predict(x_test)\n",
    "    print(classification_report(y_test, y_test_pred))\n",
    "    beta_f1 = custom_scoring(y_test, y_test_pred, verbose=True)\n",
    "    print(f'beta f1-score: {beta_f1}')\n",
    "        \n",
    "\n",
    "        "
   ]
  },
  {
   "cell_type": "markdown",
   "metadata": {},
   "source": [
    "## Imbalance testing data"
   ]
  },
  {
   "cell_type": "code",
   "execution_count": 29,
   "metadata": {},
   "outputs": [
    {
     "name": "stdout",
     "output_type": "stream",
     "text": [
      "Validation data\n",
      "Round 1 beta_f1: 0.4286347123666949\n",
      "Round 2 beta_f1: 0.42683394931482577\n",
      "Round 3 beta_f1: 0.42730624168621445\n",
      "Round 4 beta_f1: 0.4271666782105311\n",
      "Round 5 beta_f1: 0.425603569059662\n",
      "average beta f1-score: 0.42710903012758566\n",
      "Testing data\n",
      "              precision    recall  f1-score   support\n",
      "\n",
      "           1       0.09      0.84      0.17     13140\n",
      "           2       0.93      0.59      0.72   1191687\n",
      "           3       0.45      0.67      0.54    252647\n",
      "           4       0.11      0.71      0.19     38727\n",
      "\n",
      "    accuracy                           0.61   1496201\n",
      "   macro avg       0.40      0.70      0.40   1496201\n",
      "weighted avg       0.82      0.61      0.67   1496201\n",
      "\n",
      "beta f1 for level [1]: 0.11237545520460784, pr: 0.09237246990674859, rc: 0.8398021308980214\n",
      "beta f1 for level [2]: 0.7204301795109601, pr: 0.9324140229272194, rc: 0.5869804738996062\n",
      "beta f1 for level [3]: 0.5384239773431334, pr: 0.4520614233176334, rc: 0.6655768720784335\n",
      "beta f1 for level [4]: 0.33438265469349476, pr: 0.10757258517537899, rc: 0.7071035711519095\n",
      "macro avg for f1: 0.426403066688049\n",
      "beta f1-score: 0.426403066688049\n"
     ]
    }
   ],
   "source": [
    "dt = DecisionTreeClassifier()\n",
    "cross_valid(X, y, dt, verbose=True)"
   ]
  }
 ],
 "metadata": {
  "kernelspec": {
   "display_name": ".venv",
   "language": "python",
   "name": "python3"
  },
  "language_info": {
   "codemirror_mode": {
    "name": "ipython",
    "version": 3
   },
   "file_extension": ".py",
   "mimetype": "text/x-python",
   "name": "python",
   "nbconvert_exporter": "python",
   "pygments_lexer": "ipython3",
   "version": "3.11.6"
  }
 },
 "nbformat": 4,
 "nbformat_minor": 2
}
