{
   "cells": [
      {
         "cell_type": "code",
         "execution_count": 1,
         "metadata": {},
         "outputs": [],
         "source": [
            "import pandas as pd\n",
            "from sklearn.model_selection import train_test_split\n",
            "from sklearn.metrics import classification_report\n",
            "from collections import Counter\n",
            "from sklearn.pipeline import make_pipeline\n",
            "\n",
            "from sklearn.preprocessing import StandardScaler\n",
            "from imblearn.under_sampling import RandomUnderSampler\n",
            "import matplotlib.pyplot as plt\n",
            "from metrics import custom_scoring, cross_valid, test\n",
            "rus = RandomUnderSampler(random_state=42)"
         ]
      },
      {
         "cell_type": "code",
         "execution_count": 2,
         "metadata": {},
         "outputs": [],
         "source": [
            "ori_data = pd.read_csv('./data/baseline.csv', index_col=False)"
         ]
      },
      {
         "cell_type": "code",
         "execution_count": 3,
         "metadata": {},
         "outputs": [],
         "source": [
            "numerical_features = [\n",
            "    'Distance(mi)', 'Temperature(F)', 'Humidity(%)', 'Pressure(in)', 'Visibility(mi)',\n",
            "    'Wind_Speed(mph)', 'elapsed_time', 'Start_Lat', 'Start_Lng'\n",
            "]\n",
            "\n",
            "categorical_features = [f for f in list(ori_data.columns) if (f not in numerical_features)]"
         ]
      },
      {
         "cell_type": "code",
         "execution_count": 4,
         "metadata": {},
         "outputs": [],
         "source": [
            "X = ori_data.drop(['Severity'], axis=1)\n",
            "y = ori_data['Severity']"
         ]
      },
      {
         "cell_type": "markdown",
         "metadata": {},
         "source": [
            "## Model"
         ]
      },
      {
         "cell_type": "code",
         "execution_count": 5,
         "metadata": {},
         "outputs": [],
         "source": [
            "from sklearn.multiclass import OneVsRestClassifier\n",
            "from sklearn.ensemble import RandomForestClassifier, GradientBoostingClassifier, AdaBoostClassifier, StackingClassifier\n",
            "from sklearn.tree import DecisionTreeClassifier\n",
            "from sklearn.linear_model import LogisticRegression\n",
            "from sklearn.svm import LinearSVC"
         ]
      },
      {
         "cell_type": "code",
         "execution_count": 6,
         "metadata": {},
         "outputs": [],
         "source": [
            "x_train_valid, x_test, y_train_valid, y_test = train_test_split(X, y, test_size=0.2, stratify=y)"
         ]
      },
      {
         "cell_type": "markdown",
         "metadata": {},
         "source": [
            "## Direct Testing"
         ]
      },
      {
         "cell_type": "markdown",
         "metadata": {},
         "source": [
            "### Decision Tree"
         ]
      },
      {
         "cell_type": "code",
         "execution_count": 7,
         "metadata": {},
         "outputs": [],
         "source": [
            "# dt = DecisionTreeClassifier()\n",
            "# dt.fit(x_train_valid, y_train_valid)\n",
            "# test(dt, x_test, y_test)"
         ]
      },
      {
         "cell_type": "markdown",
         "metadata": {},
         "source": [
            "### Random Forest"
         ]
      },
      {
         "cell_type": "code",
         "execution_count": 8,
         "metadata": {},
         "outputs": [],
         "source": [
            "# rfc = RandomForestClassifier(n_estimators=50, max_depth=15)\n",
            "# rfc.fit(x_train_valid, y_train_valid)\n",
            "# test(rfc, x_test, y_test)"
         ]
      },
      {
         "cell_type": "markdown",
         "metadata": {},
         "source": [
            "### OneVsRestClassifier with decision tree"
         ]
      },
      {
         "cell_type": "code",
         "execution_count": 9,
         "metadata": {},
         "outputs": [],
         "source": [
            "# clf = OneVsRestClassifier(DecisionTreeClassifier(max_depth=5)).fit(x_train_valid, y_train_valid)\n",
            "# test(clf, x_test, y_test)"
         ]
      },
      {
         "cell_type": "markdown",
         "metadata": {},
         "source": [
            "### OneVsRestClassifier with RandomForest"
         ]
      },
      {
         "cell_type": "code",
         "execution_count": 10,
         "metadata": {},
         "outputs": [],
         "source": [
            "# clf = OneVsRestClassifier(RandomForestClassifier(max_depth=15)).fit(x_train_valid, y_train_valid)\n",
            "# test(clf, x_test, y_test)"
         ]
      },
      {
         "cell_type": "markdown",
         "metadata": {},
         "source": [
            "## **KFold cross validation**"
         ]
      },
      {
         "cell_type": "markdown",
         "metadata": {},
         "source": [
            "### Decision Tree"
         ]
      },
      {
         "cell_type": "markdown",
         "metadata": {},
         "source": [
            "Decision tree without balance dataset"
         ]
      },
      {
         "cell_type": "code",
         "execution_count": 11,
         "metadata": {},
         "outputs": [
            {
               "name": "stdout",
               "output_type": "stream",
               "text": [
                  "Validation data\n",
                  "macro beta f1: 0.6086062673044836\n",
                  "weighted beta f1: 0.9346550649206863\n",
                  "Round 0 macro beta f1-score: 0.6086062673044836\n",
                  "Round 0 weighted beta f1-score: 0.9346550649206863\n",
                  "macro beta f1: 0.6143317753714886\n",
                  "weighted beta f1: 0.934601062796632\n",
                  "Round 1 macro beta f1-score: 0.6143317753714886\n",
                  "Round 1 weighted beta f1-score: 0.934601062796632\n",
                  "macro beta f1: 0.61300616665544\n",
                  "weighted beta f1: 0.9345490461352982\n",
                  "Round 2 macro beta f1-score: 0.61300616665544\n",
                  "Round 2 weighted beta f1-score: 0.9345490461352982\n",
                  "macro beta f1: 0.6145712414771322\n",
                  "weighted beta f1: 0.9346577980040108\n",
                  "Round 3 macro beta f1-score: 0.6145712414771322\n",
                  "Round 3 weighted beta f1-score: 0.9346577980040108\n",
                  "macro beta f1: 0.6133052855329997\n",
                  "weighted beta f1: 0.9346016540657781\n",
                  "Round 4 macro beta f1-score: 0.6133052855329997\n",
                  "Round 4 weighted beta f1-score: 0.9346016540657781\n",
                  "average macro beta f1-score after kfold: 0.6127641472683087\n",
                  "average weighted beta f1-score after kfold: 0.9346129251844811\n",
                  "Testing data:\n",
                  "              precision    recall  f1-score   support\n",
                  "\n",
                  "           1       0.69      0.69      0.69      5114\n",
                  "           2       0.97      0.97      0.97    669689\n",
                  "           3       0.52      0.54      0.53     13605\n",
                  "           4       0.26      0.27      0.26     22502\n",
                  "\n",
                  "    accuracy                           0.93    710910\n",
                  "   macro avg       0.61      0.62      0.61    710910\n",
                  "weighted avg       0.93      0.93      0.93    710910\n",
                  "\n",
                  "macro beta f1: 0.6121477993678691\n",
                  "weighted beta f1: 0.9344975206235647\n"
               ]
            }
         ],
         "source": [
            "dt = DecisionTreeClassifier()\n",
            "cross_valid(x_train_valid, y_train_valid, dt, verbose=True, balance_cls=False)\n",
            "test(dt, x_test, y_test)"
         ]
      },
      {
         "cell_type": "markdown",
         "metadata": {},
         "source": [
            "Decision tree with balance dataset"
         ]
      },
      {
         "cell_type": "code",
         "execution_count": 12,
         "metadata": {},
         "outputs": [
            {
               "name": "stdout",
               "output_type": "stream",
               "text": [
                  "Validation data\n",
                  "After under sampling:\n",
                  "Length of training data: 65536, and its distribution among each severity Counter({1: 16384, 2: 16384, 3: 16384, 4: 16384})\n",
                  "macro beta f1: 0.4429413214141771\n",
                  "weighted beta f1: 0.7993421491865639\n",
                  "Round 0 macro beta f1-score: 0.4429413214141771\n",
                  "Round 0 weighted beta f1-score: 0.7993421491865639\n",
                  "After under sampling:\n",
                  "Length of training data: 65460, and its distribution among each severity Counter({1: 16365, 2: 16365, 3: 16365, 4: 16365})\n",
                  "macro beta f1: 0.4443633617561563\n",
                  "weighted beta f1: 0.8018803961707125\n",
                  "Round 1 macro beta f1-score: 0.4443633617561563\n",
                  "Round 1 weighted beta f1-score: 0.8018803961707125\n",
                  "After under sampling:\n",
                  "Length of training data: 65300, and its distribution among each severity Counter({1: 16325, 2: 16325, 3: 16325, 4: 16325})\n",
                  "macro beta f1: 0.4444187339946868\n",
                  "weighted beta f1: 0.8014897033366749\n",
                  "Round 2 macro beta f1-score: 0.4444187339946868\n",
                  "Round 2 weighted beta f1-score: 0.8014897033366749\n",
                  "After under sampling:\n",
                  "Length of training data: 65616, and its distribution among each severity Counter({1: 16404, 2: 16404, 3: 16404, 4: 16404})\n",
                  "macro beta f1: 0.44038446930214403\n",
                  "weighted beta f1: 0.7980109034158507\n",
                  "Round 3 macro beta f1-score: 0.44038446930214403\n",
                  "Round 3 weighted beta f1-score: 0.7980109034158507\n",
                  "After under sampling:\n",
                  "Length of training data: 65336, and its distribution among each severity Counter({1: 16334, 2: 16334, 3: 16334, 4: 16334})\n",
                  "macro beta f1: 0.43825921853401534\n",
                  "weighted beta f1: 0.7992953029953179\n",
                  "Round 4 macro beta f1-score: 0.43825921853401534\n",
                  "Round 4 weighted beta f1-score: 0.7992953029953179\n",
                  "average macro beta f1-score after kfold: 0.4420734210002359\n",
                  "average weighted beta f1-score after kfold: 0.800003691021024\n",
                  "Testing data:\n",
                  "              precision    recall  f1-score   support\n",
                  "\n",
                  "           1       0.28      0.89      0.43      5114\n",
                  "           2       0.99      0.72      0.83    669689\n",
                  "           3       0.20      0.73      0.31     13605\n",
                  "           4       0.09      0.65      0.16     22502\n",
                  "\n",
                  "    accuracy                           0.72    710910\n",
                  "   macro avg       0.39      0.75      0.43    710910\n",
                  "weighted avg       0.94      0.72      0.80    710910\n",
                  "\n",
                  "macro beta f1: 0.4397481330739061\n",
                  "weighted beta f1: 0.7995512643878998\n"
               ]
            }
         ],
         "source": [
            "dt = DecisionTreeClassifier()\n",
            "cross_valid(x_train_valid, y_train_valid, dt, verbose=True, balance_cls=True)\n",
            "test(dt, x_test, y_test)"
         ]
      },
      {
         "cell_type": "markdown",
         "metadata": {},
         "source": [
            "### OneVsRestClassifier with decision tree as base model"
         ]
      },
      {
         "cell_type": "markdown",
         "metadata": {},
         "source": [
            "without balance dataset"
         ]
      },
      {
         "cell_type": "code",
         "execution_count": 13,
         "metadata": {},
         "outputs": [
            {
               "name": "stdout",
               "output_type": "stream",
               "text": [
                  "Validation data\n",
                  "macro beta f1: 0.6392673641654405\n",
                  "weighted beta f1: 0.9307670931434202\n",
                  "Round 0 macro beta f1-score: 0.6392673641654405\n",
                  "Round 0 weighted beta f1-score: 0.9307670931434202\n",
                  "macro beta f1: 0.6403381192861543\n",
                  "weighted beta f1: 0.930338337148393\n",
                  "Round 1 macro beta f1-score: 0.6403381192861543\n",
                  "Round 1 weighted beta f1-score: 0.930338337148393\n",
                  "macro beta f1: 0.639237350914595\n",
                  "weighted beta f1: 0.9301678926078267\n",
                  "Round 2 macro beta f1-score: 0.639237350914595\n",
                  "Round 2 weighted beta f1-score: 0.9301678926078267\n",
                  "macro beta f1: 0.6382444403559981\n",
                  "weighted beta f1: 0.9301988147944072\n",
                  "Round 3 macro beta f1-score: 0.6382444403559981\n",
                  "Round 3 weighted beta f1-score: 0.9301988147944072\n",
                  "macro beta f1: 0.6394434227163995\n",
                  "weighted beta f1: 0.9305266610757716\n",
                  "Round 4 macro beta f1-score: 0.6394434227163995\n",
                  "Round 4 weighted beta f1-score: 0.9305266610757716\n",
                  "average macro beta f1-score after kfold: 0.6393061394877175\n",
                  "average weighted beta f1-score after kfold: 0.9303997597539638\n",
                  "Testing data:\n",
                  "              precision    recall  f1-score   support\n",
                  "\n",
                  "           1       0.80      0.58      0.67      5114\n",
                  "           2       0.97      0.95      0.96    669689\n",
                  "           3       0.54      0.53      0.53     13605\n",
                  "           4       0.21      0.38      0.27     22502\n",
                  "\n",
                  "    accuracy                           0.92    710910\n",
                  "   macro avg       0.63      0.61      0.61    710910\n",
                  "weighted avg       0.94      0.92      0.93    710910\n",
                  "\n",
                  "macro beta f1: 0.6402359833689628\n",
                  "weighted beta f1: 0.9308286405962258\n"
               ]
            }
         ],
         "source": [
            "clf = OneVsRestClassifier(DecisionTreeClassifier())\n",
            "cross_valid(x_train_valid, y_train_valid, clf, verbose=True, balance_cls=False)\n",
            "test(clf, x_test, y_test)"
         ]
      },
      {
         "cell_type": "markdown",
         "metadata": {},
         "source": [
            "with balance dataset"
         ]
      },
      {
         "cell_type": "code",
         "execution_count": 14,
         "metadata": {},
         "outputs": [
            {
               "name": "stdout",
               "output_type": "stream",
               "text": [
                  "Validation data\n",
                  "After under sampling:\n",
                  "Length of training data: 65536, and its distribution among each severity Counter({1: 16384, 2: 16384, 3: 16384, 4: 16384})\n",
                  "macro beta f1: 0.441149950806238\n",
                  "weighted beta f1: 0.7119110899924829\n",
                  "Round 0 macro beta f1-score: 0.441149950806238\n",
                  "Round 0 weighted beta f1-score: 0.7119110899924829\n",
                  "After under sampling:\n",
                  "Length of training data: 65460, and its distribution among each severity Counter({1: 16365, 2: 16365, 3: 16365, 4: 16365})\n",
                  "macro beta f1: 0.44445923439244955\n",
                  "weighted beta f1: 0.7164537227551993\n",
                  "Round 1 macro beta f1-score: 0.44445923439244955\n",
                  "Round 1 weighted beta f1-score: 0.7164537227551993\n",
                  "After under sampling:\n",
                  "Length of training data: 65300, and its distribution among each severity Counter({1: 16325, 2: 16325, 3: 16325, 4: 16325})\n",
                  "macro beta f1: 0.45047386944582773\n",
                  "weighted beta f1: 0.7191107651074691\n",
                  "Round 2 macro beta f1-score: 0.45047386944582773\n",
                  "Round 2 weighted beta f1-score: 0.7191107651074691\n",
                  "After under sampling:\n",
                  "Length of training data: 65616, and its distribution among each severity Counter({1: 16404, 2: 16404, 3: 16404, 4: 16404})\n",
                  "macro beta f1: 0.4450010834649508\n",
                  "weighted beta f1: 0.7116866207274706\n",
                  "Round 3 macro beta f1-score: 0.4450010834649508\n",
                  "Round 3 weighted beta f1-score: 0.7116866207274706\n",
                  "After under sampling:\n",
                  "Length of training data: 65336, and its distribution among each severity Counter({1: 16334, 2: 16334, 3: 16334, 4: 16334})\n",
                  "macro beta f1: 0.4468848684952225\n",
                  "weighted beta f1: 0.7168388662193559\n",
                  "Round 4 macro beta f1-score: 0.4468848684952225\n",
                  "Round 4 weighted beta f1-score: 0.7168388662193559\n",
                  "average macro beta f1-score after kfold: 0.44559380132093773\n",
                  "average weighted beta f1-score after kfold: 0.7152002129603956\n",
                  "Testing data:\n",
                  "              precision    recall  f1-score   support\n",
                  "\n",
                  "           1       0.44      0.83      0.58      5114\n",
                  "           2       0.99      0.59      0.74    669689\n",
                  "           3       0.20      0.67      0.30     13605\n",
                  "           4       0.07      0.80      0.13     22502\n",
                  "\n",
                  "    accuracy                           0.60    710910\n",
                  "   macro avg       0.43      0.72      0.44    710910\n",
                  "weighted avg       0.94      0.60      0.71    710910\n",
                  "\n",
                  "macro beta f1: 0.4490735154854743\n",
                  "weighted beta f1: 0.7163867708860638\n"
               ]
            }
         ],
         "source": [
            "clf = OneVsRestClassifier(DecisionTreeClassifier())\n",
            "cross_valid(x_train_valid, y_train_valid, clf, verbose=True, balance_cls=True)\n",
            "test(clf, x_test, y_test)"
         ]
      },
      {
         "cell_type": "markdown",
         "metadata": {},
         "source": [
            "### OneVsRestClassifier with Random Forest as base model"
         ]
      },
      {
         "cell_type": "markdown",
         "metadata": {},
         "source": [
            "Without balance"
         ]
      },
      {
         "cell_type": "code",
         "execution_count": 15,
         "metadata": {},
         "outputs": [
            {
               "name": "stdout",
               "output_type": "stream",
               "text": [
                  "Validation data\n",
                  "macro beta f1: 0.6488772486366947\n",
                  "weighted beta f1: 0.9429423027034506\n",
                  "Round 0 macro beta f1-score: 0.6488772486366947\n",
                  "Round 0 weighted beta f1-score: 0.9429423027034506\n",
                  "macro beta f1: 0.6501802664754587\n",
                  "weighted beta f1: 0.9423878111127767\n",
                  "Round 1 macro beta f1-score: 0.6501802664754587\n",
                  "Round 1 weighted beta f1-score: 0.9423878111127767\n",
                  "macro beta f1: 0.6534128975905689\n",
                  "weighted beta f1: 0.9428832733208781\n",
                  "Round 2 macro beta f1-score: 0.6534128975905689\n",
                  "Round 2 weighted beta f1-score: 0.9428832733208781\n",
                  "macro beta f1: 0.651374438292921\n",
                  "weighted beta f1: 0.9425046273947294\n",
                  "Round 3 macro beta f1-score: 0.651374438292921\n",
                  "Round 3 weighted beta f1-score: 0.9425046273947294\n",
                  "macro beta f1: 0.6550878663748447\n",
                  "weighted beta f1: 0.9432110289396924\n",
                  "Round 4 macro beta f1-score: 0.6550878663748447\n",
                  "Round 4 weighted beta f1-score: 0.9432110289396924\n",
                  "average macro beta f1-score after kfold: 0.6517865434740976\n",
                  "average weighted beta f1-score after kfold: 0.9427858086943054\n",
                  "Testing data:\n",
                  "              precision    recall  f1-score   support\n",
                  "\n",
                  "           1       0.83      0.68      0.75      5114\n",
                  "           2       0.96      0.99      0.97    669689\n",
                  "           3       0.78      0.50      0.61     13605\n",
                  "           4       0.38      0.20      0.26     22502\n",
                  "\n",
                  "    accuracy                           0.95    710910\n",
                  "   macro avg       0.74      0.59      0.65    710910\n",
                  "weighted avg       0.94      0.95      0.94    710910\n",
                  "\n",
                  "macro beta f1: 0.6510696428802043\n",
                  "weighted beta f1: 0.9426979344431666\n"
               ]
            }
         ],
         "source": [
            "clf = OneVsRestClassifier(RandomForestClassifier())\n",
            "cross_valid(x_train_valid, y_train_valid, clf, verbose=True, balance_cls=False)\n",
            "test(clf, x_test, y_test)"
         ]
      },
      {
         "cell_type": "markdown",
         "metadata": {},
         "source": [
            "Balance"
         ]
      },
      {
         "cell_type": "code",
         "execution_count": 16,
         "metadata": {},
         "outputs": [
            {
               "name": "stdout",
               "output_type": "stream",
               "text": [
                  "Validation data\n",
                  "After under sampling:\n",
                  "Length of training data: 65536, and its distribution among each severity Counter({1: 16384, 2: 16384, 3: 16384, 4: 16384})\n",
                  "macro beta f1: 0.47728331997897794\n",
                  "weighted beta f1: 0.8325959975988974\n",
                  "Round 0 macro beta f1-score: 0.47728331997897794\n",
                  "Round 0 weighted beta f1-score: 0.8325959975988974\n",
                  "After under sampling:\n",
                  "Length of training data: 65460, and its distribution among each severity Counter({1: 16365, 2: 16365, 3: 16365, 4: 16365})\n",
                  "macro beta f1: 0.4811369641284083\n",
                  "weighted beta f1: 0.8337410815192192\n",
                  "Round 1 macro beta f1-score: 0.4811369641284083\n",
                  "Round 1 weighted beta f1-score: 0.8337410815192192\n",
                  "After under sampling:\n",
                  "Length of training data: 65300, and its distribution among each severity Counter({1: 16325, 2: 16325, 3: 16325, 4: 16325})\n",
                  "macro beta f1: 0.4805144255395421\n",
                  "weighted beta f1: 0.8316958832099013\n",
                  "Round 2 macro beta f1-score: 0.4805144255395421\n",
                  "Round 2 weighted beta f1-score: 0.8316958832099013\n",
                  "After under sampling:\n",
                  "Length of training data: 65616, and its distribution among each severity Counter({1: 16404, 2: 16404, 3: 16404, 4: 16404})\n",
                  "macro beta f1: 0.48081765617319633\n",
                  "weighted beta f1: 0.8317045348056075\n",
                  "Round 3 macro beta f1-score: 0.48081765617319633\n",
                  "Round 3 weighted beta f1-score: 0.8317045348056075\n",
                  "After under sampling:\n",
                  "Length of training data: 65336, and its distribution among each severity Counter({1: 16334, 2: 16334, 3: 16334, 4: 16334})\n",
                  "macro beta f1: 0.4809298325272985\n",
                  "weighted beta f1: 0.8341535583879857\n",
                  "Round 4 macro beta f1-score: 0.4809298325272985\n",
                  "Round 4 weighted beta f1-score: 0.8341535583879857\n",
                  "average macro beta f1-score after kfold: 0.4801364396694846\n",
                  "average weighted beta f1-score after kfold: 0.8327782111043222\n",
                  "Testing data:\n",
                  "              precision    recall  f1-score   support\n",
                  "\n",
                  "           1       0.29      0.94      0.44      5114\n",
                  "           2       0.99      0.76      0.86    669689\n",
                  "           3       0.22      0.84      0.35     13605\n",
                  "           4       0.13      0.73      0.22     22502\n",
                  "\n",
                  "    accuracy                           0.76    710910\n",
                  "   macro avg       0.41      0.82      0.47    710910\n",
                  "weighted avg       0.95      0.76      0.83    710910\n",
                  "\n",
                  "macro beta f1: 0.48111614828680943\n",
                  "weighted beta f1: 0.8335227991564781\n"
               ]
            }
         ],
         "source": [
            "clf = OneVsRestClassifier(RandomForestClassifier())\n",
            "cross_valid(x_train_valid, y_train_valid, clf, verbose=True, balance_cls=True)\n",
            "test(clf, x_test, y_test)"
         ]
      }
   ],
   "metadata": {
      "kernelspec": {
         "display_name": ".venv",
         "language": "python",
         "name": "python3"
      },
      "language_info": {
         "codemirror_mode": {
            "name": "ipython",
            "version": 3
         },
         "file_extension": ".py",
         "mimetype": "text/x-python",
         "name": "python",
         "nbconvert_exporter": "python",
         "pygments_lexer": "ipython3",
         "version": "3.9.18"
      }
   },
   "nbformat": 4,
   "nbformat_minor": 2
}
