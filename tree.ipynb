{
   "cells": [
      {
         "cell_type": "code",
         "execution_count": 1,
         "metadata": {},
         "outputs": [],
         "source": [
            "import pandas as pd\n",
            "from sklearn.model_selection import train_test_split\n",
            "from sklearn.metrics import classification_report\n",
            "from collections import Counter\n",
            "from sklearn.pipeline import make_pipeline\n",
            "\n",
            "from sklearn.preprocessing import StandardScaler\n",
            "from imblearn.under_sampling import RandomUnderSampler\n",
            "import matplotlib.pyplot as plt\n",
            "from metrics import custom_scoring, cross_valid, test\n",
            "rus = RandomUnderSampler(random_state=42)"
         ]
      },
      {
         "cell_type": "code",
         "execution_count": 2,
         "metadata": {},
         "outputs": [],
         "source": [
            "ori_data = pd.read_csv('./data/v2-4.csv', index_col=False)"
         ]
      },
      {
         "cell_type": "code",
         "execution_count": 3,
         "metadata": {},
         "outputs": [],
         "source": [
            "numerical_features = [\n",
            "    'Distance(mi)', 'Temperature(F)', 'Humidity(%)', 'Pressure(in)', 'Visibility(mi)',\n",
            "    'Wind_Speed(mph)', 'elapsed_time', 'Start_Lat', 'Start_Lng'\n",
            "]\n",
            "\n",
            "categorical_features = [f for f in list(ori_data.columns) if (f not in numerical_features)]"
         ]
      },
      {
         "cell_type": "code",
         "execution_count": 4,
         "metadata": {},
         "outputs": [],
         "source": [
            "X = ori_data.drop(['Severity'], axis=1)\n",
            "y = ori_data['Severity']"
         ]
      },
      {
         "cell_type": "markdown",
         "metadata": {},
         "source": [
            "## Model"
         ]
      },
      {
         "cell_type": "code",
         "execution_count": 5,
         "metadata": {},
         "outputs": [],
         "source": [
            "from sklearn.multiclass import OneVsRestClassifier\n",
            "from sklearn.ensemble import RandomForestClassifier, GradientBoostingClassifier, AdaBoostClassifier, StackingClassifier\n",
            "from sklearn.tree import DecisionTreeClassifier\n",
            "from sklearn.linear_model import LogisticRegression\n",
            "from sklearn.svm import LinearSVC"
         ]
      },
      {
         "cell_type": "code",
         "execution_count": 6,
         "metadata": {},
         "outputs": [],
         "source": [
            "x_train_valid, x_test, y_train_valid, y_test = train_test_split(X, y, test_size=0.2, stratify=y)"
         ]
      },
      {
         "cell_type": "markdown",
         "metadata": {},
         "source": [
            "## Direct Testing"
         ]
      },
      {
         "cell_type": "markdown",
         "metadata": {},
         "source": [
            "### Decision Tree"
         ]
      },
      {
         "cell_type": "code",
         "execution_count": 7,
         "metadata": {},
         "outputs": [],
         "source": [
            "# dt = DecisionTreeClassifier()\n",
            "# dt.fit(x_train_valid, y_train_valid)\n",
            "# test(dt, x_test, y_test)"
         ]
      },
      {
         "cell_type": "markdown",
         "metadata": {},
         "source": [
            "### Random Forest"
         ]
      },
      {
         "cell_type": "code",
         "execution_count": 8,
         "metadata": {},
         "outputs": [],
         "source": [
            "# rfc = RandomForestClassifier(n_estimators=50, max_depth=15)\n",
            "# rfc.fit(x_train_valid, y_train_valid)\n",
            "# test(rfc, x_test, y_test)"
         ]
      },
      {
         "cell_type": "markdown",
         "metadata": {},
         "source": [
            "### OneVsRestClassifier with decision tree"
         ]
      },
      {
         "cell_type": "code",
         "execution_count": 9,
         "metadata": {},
         "outputs": [],
         "source": [
            "# clf = OneVsRestClassifier(DecisionTreeClassifier(max_depth=5)).fit(x_train_valid, y_train_valid)\n",
            "# test(clf, x_test, y_test)"
         ]
      },
      {
         "cell_type": "markdown",
         "metadata": {},
         "source": [
            "### OneVsRestClassifier with RandomForest"
         ]
      },
      {
         "cell_type": "code",
         "execution_count": 10,
         "metadata": {},
         "outputs": [],
         "source": [
            "# clf = OneVsRestClassifier(RandomForestClassifier(max_depth=15)).fit(x_train_valid, y_train_valid)\n",
            "# test(clf, x_test, y_test)"
         ]
      },
      {
         "cell_type": "markdown",
         "metadata": {},
         "source": [
            "## **KFold cross validation**"
         ]
      },
      {
         "cell_type": "markdown",
         "metadata": {},
         "source": [
            "### Decision Tree"
         ]
      },
      {
         "cell_type": "markdown",
         "metadata": {},
         "source": [
            "Decision tree without balance dataset"
         ]
      },
      {
         "cell_type": "code",
         "execution_count": 11,
         "metadata": {},
         "outputs": [
            {
               "name": "stdout",
               "output_type": "stream",
               "text": [
                  "Validation data\n",
                  "macro beta f1: 0.5767200341950788\n",
                  "weighted beta f1: 0.8603618097399257\n",
                  "Round 0 macro beta f1-score: 0.5767200341950788\n",
                  "Round 0 weighted beta f1-score: 0.8603618097399257\n",
                  "macro beta f1: 0.5816996222316548\n",
                  "weighted beta f1: 0.8608728014833144\n",
                  "Round 1 macro beta f1-score: 0.5816996222316548\n",
                  "Round 1 weighted beta f1-score: 0.8608728014833144\n",
                  "macro beta f1: 0.5790598641559622\n",
                  "weighted beta f1: 0.8609877676545479\n",
                  "Round 2 macro beta f1-score: 0.5790598641559622\n",
                  "Round 2 weighted beta f1-score: 0.8609877676545479\n",
                  "macro beta f1: 0.5781349810257188\n",
                  "weighted beta f1: 0.8606886054403797\n",
                  "Round 3 macro beta f1-score: 0.5781349810257188\n",
                  "Round 3 weighted beta f1-score: 0.8606886054403797\n",
                  "macro beta f1: 0.5795187831305665\n",
                  "weighted beta f1: 0.8609567724736372\n",
                  "Round 4 macro beta f1-score: 0.5795187831305665\n",
                  "Round 4 weighted beta f1-score: 0.8609567724736372\n",
                  "average macro beta f1-score after kfold: 0.5790266569477962\n",
                  "average weighted beta f1-score after kfold: 0.860773551358361\n",
                  "Testing data:\n",
                  "              precision    recall  f1-score   support\n",
                  "\n",
                  "           1       0.35      0.39      0.37     13140\n",
                  "           2       0.92      0.92      0.92   1191687\n",
                  "           3       0.70      0.71      0.70    252647\n",
                  "           4       0.33      0.34      0.33     38727\n",
                  "\n",
                  "    accuracy                           0.86   1496201\n",
                  "   macro avg       0.57      0.59      0.58   1496201\n",
                  "weighted avg       0.86      0.86      0.86   1496201\n",
                  "\n",
                  "macro beta f1: 0.5790943124218246\n",
                  "weighted beta f1: 0.861463340459346\n"
               ]
            }
         ],
         "source": [
            "dt = DecisionTreeClassifier()\n",
            "cross_valid(x_train_valid, y_train_valid, dt, verbose=True, balance_cls=False)\n",
            "test(dt, x_test, y_test)"
         ]
      },
      {
         "cell_type": "markdown",
         "metadata": {},
         "source": [
            "Decision tree with balance dataset"
         ]
      },
      {
         "cell_type": "code",
         "execution_count": 12,
         "metadata": {},
         "outputs": [
            {
               "name": "stdout",
               "output_type": "stream",
               "text": [
                  "Validation data\n",
                  "After under sampling:\n",
                  "Length of training data: 168452, and its distribution among each severity Counter({1: 42113, 2: 42113, 3: 42113, 4: 42113})\n",
                  "macro beta f1: 0.4255558169627195\n",
                  "weighted beta f1: 0.6732030862765519\n",
                  "Round 0 macro beta f1-score: 0.4255558169627195\n",
                  "Round 0 weighted beta f1-score: 0.6732030862765519\n",
                  "After under sampling:\n",
                  "Length of training data: 168160, and its distribution among each severity Counter({1: 42040, 2: 42040, 3: 42040, 4: 42040})\n",
                  "macro beta f1: 0.42651509089473505\n",
                  "weighted beta f1: 0.6731982357939555\n",
                  "Round 1 macro beta f1-score: 0.42651509089473505\n",
                  "Round 1 weighted beta f1-score: 0.6731982357939555\n",
                  "After under sampling:\n",
                  "Length of training data: 168652, and its distribution among each severity Counter({1: 42163, 2: 42163, 3: 42163, 4: 42163})\n",
                  "macro beta f1: 0.42639392314889324\n",
                  "weighted beta f1: 0.6758421890830225\n",
                  "Round 2 macro beta f1-score: 0.42639392314889324\n",
                  "Round 2 weighted beta f1-score: 0.6758421890830225\n",
                  "After under sampling:\n",
                  "Length of training data: 167660, and its distribution among each severity Counter({1: 41915, 2: 41915, 3: 41915, 4: 41915})\n",
                  "macro beta f1: 0.42499678881092784\n",
                  "weighted beta f1: 0.6719711281618419\n",
                  "Round 3 macro beta f1-score: 0.42499678881092784\n",
                  "Round 3 weighted beta f1-score: 0.6719711281618419\n",
                  "After under sampling:\n",
                  "Length of training data: 168020, and its distribution among each severity Counter({1: 42005, 2: 42005, 3: 42005, 4: 42005})\n",
                  "macro beta f1: 0.4276479921363652\n",
                  "weighted beta f1: 0.6758502041232545\n",
                  "Round 4 macro beta f1-score: 0.4276479921363652\n",
                  "Round 4 weighted beta f1-score: 0.6758502041232545\n",
                  "average macro beta f1-score after kfold: 0.4262219223907282\n",
                  "average weighted beta f1-score after kfold: 0.6740129686877252\n",
                  "Testing data:\n",
                  "              precision    recall  f1-score   support\n",
                  "\n",
                  "           1       0.09      0.84      0.17     13140\n",
                  "           2       0.93      0.59      0.72   1191687\n",
                  "           3       0.45      0.66      0.54    252647\n",
                  "           4       0.11      0.71      0.19     38727\n",
                  "\n",
                  "    accuracy                           0.61   1496201\n",
                  "   macro avg       0.40      0.70      0.40   1496201\n",
                  "weighted avg       0.82      0.61      0.67   1496201\n",
                  "\n",
                  "macro beta f1: 0.42777584382735634\n",
                  "weighted beta f1: 0.6760338528809223\n"
               ]
            }
         ],
         "source": [
            "dt = DecisionTreeClassifier()\n",
            "cross_valid(x_train_valid, y_train_valid, dt, verbose=True, balance_cls=True)\n",
            "test(dt, x_test, y_test)"
         ]
      },
      {
         "cell_type": "markdown",
         "metadata": {},
         "source": [
            "### OneVsRestClassifier with decision tree as base model"
         ]
      },
      {
         "cell_type": "markdown",
         "metadata": {},
         "source": [
            "without balance dataset"
         ]
      },
      {
         "cell_type": "code",
         "execution_count": 13,
         "metadata": {},
         "outputs": [
            {
               "name": "stdout",
               "output_type": "stream",
               "text": [
                  "Validation data\n",
                  "macro beta f1: 0.6177335333829257\n",
                  "weighted beta f1: 0.853150661871581\n",
                  "Round 0 macro beta f1-score: 0.6177335333829257\n",
                  "Round 0 weighted beta f1-score: 0.853150661871581\n",
                  "macro beta f1: 0.6183928954962548\n",
                  "weighted beta f1: 0.853590758535722\n",
                  "Round 1 macro beta f1-score: 0.6183928954962548\n",
                  "Round 1 weighted beta f1-score: 0.853590758535722\n",
                  "macro beta f1: 0.6133590057851268\n",
                  "weighted beta f1: 0.8524980057162639\n",
                  "Round 2 macro beta f1-score: 0.6133590057851268\n",
                  "Round 2 weighted beta f1-score: 0.8524980057162639\n",
                  "macro beta f1: 0.6167409335534524\n",
                  "weighted beta f1: 0.852933813759346\n",
                  "Round 3 macro beta f1-score: 0.6167409335534524\n",
                  "Round 3 weighted beta f1-score: 0.852933813759346\n",
                  "macro beta f1: 0.6197746702876641\n",
                  "weighted beta f1: 0.853298089636416\n",
                  "Round 4 macro beta f1-score: 0.6197746702876641\n",
                  "Round 4 weighted beta f1-score: 0.853298089636416\n",
                  "average macro beta f1-score after kfold: 0.6172002077010847\n",
                  "average weighted beta f1-score after kfold: 0.8530942659038656\n",
                  "Testing data:\n",
                  "              precision    recall  f1-score   support\n",
                  "\n",
                  "           1       0.70      0.30      0.42     13140\n",
                  "           2       0.94      0.87      0.91   1191687\n",
                  "           3       0.71      0.70      0.70    252647\n",
                  "           4       0.14      0.49      0.21     38727\n",
                  "\n",
                  "    accuracy                           0.83   1496201\n",
                  "   macro avg       0.62      0.59      0.56   1496201\n",
                  "weighted avg       0.88      0.83      0.85   1496201\n",
                  "\n",
                  "macro beta f1: 0.6202262987638822\n",
                  "weighted beta f1: 0.8534695690623885\n"
               ]
            }
         ],
         "source": [
            "clf = OneVsRestClassifier(DecisionTreeClassifier())\n",
            "cross_valid(x_train_valid, y_train_valid, clf, verbose=True, balance_cls=False)\n",
            "test(clf, x_test, y_test)"
         ]
      },
      {
         "cell_type": "markdown",
         "metadata": {},
         "source": [
            "with balance dataset"
         ]
      },
      {
         "cell_type": "code",
         "execution_count": 14,
         "metadata": {},
         "outputs": [
            {
               "name": "stdout",
               "output_type": "stream",
               "text": [
                  "Validation data\n",
                  "After under sampling:\n",
                  "Length of training data: 168452, and its distribution among each severity Counter({1: 42113, 2: 42113, 3: 42113, 4: 42113})\n",
                  "macro beta f1: 0.39047739896892447\n",
                  "weighted beta f1: 0.5817509070206165\n",
                  "Round 0 macro beta f1-score: 0.39047739896892447\n",
                  "Round 0 weighted beta f1-score: 0.5817509070206165\n",
                  "After under sampling:\n",
                  "Length of training data: 168160, and its distribution among each severity Counter({1: 42040, 2: 42040, 3: 42040, 4: 42040})\n",
                  "macro beta f1: 0.39131335458123473\n",
                  "weighted beta f1: 0.5818926810190825\n",
                  "Round 1 macro beta f1-score: 0.39131335458123473\n",
                  "Round 1 weighted beta f1-score: 0.5818926810190825\n",
                  "After under sampling:\n",
                  "Length of training data: 168652, and its distribution among each severity Counter({1: 42163, 2: 42163, 3: 42163, 4: 42163})\n",
                  "macro beta f1: 0.39315873116756606\n",
                  "weighted beta f1: 0.588154574035084\n",
                  "Round 2 macro beta f1-score: 0.39315873116756606\n",
                  "Round 2 weighted beta f1-score: 0.588154574035084\n",
                  "After under sampling:\n",
                  "Length of training data: 167660, and its distribution among each severity Counter({1: 41915, 2: 41915, 3: 41915, 4: 41915})\n",
                  "macro beta f1: 0.393517002323667\n",
                  "weighted beta f1: 0.5843306977096321\n",
                  "Round 3 macro beta f1-score: 0.393517002323667\n",
                  "Round 3 weighted beta f1-score: 0.5843306977096321\n",
                  "After under sampling:\n",
                  "Length of training data: 168020, and its distribution among each severity Counter({1: 42005, 2: 42005, 3: 42005, 4: 42005})\n",
                  "macro beta f1: 0.3932472654694084\n",
                  "weighted beta f1: 0.5866951188064662\n",
                  "Round 4 macro beta f1-score: 0.3932472654694084\n",
                  "Round 4 weighted beta f1-score: 0.5866951188064662\n",
                  "average macro beta f1-score after kfold: 0.3923427505021601\n",
                  "average weighted beta f1-score after kfold: 0.5845647957181763\n",
                  "Testing data:\n",
                  "              precision    recall  f1-score   support\n",
                  "\n",
                  "           1       0.15      0.77      0.25     13140\n",
                  "           2       0.96      0.45      0.61   1191687\n",
                  "           3       0.47      0.63      0.54    252647\n",
                  "           4       0.06      0.87      0.12     38727\n",
                  "\n",
                  "    accuracy                           0.49   1496201\n",
                  "   macro avg       0.41      0.68      0.38   1496201\n",
                  "weighted avg       0.84      0.49      0.58   1496201\n",
                  "\n",
                  "macro beta f1: 0.39363792230381733\n",
                  "weighted beta f1: 0.5866645946436548\n"
               ]
            }
         ],
         "source": [
            "clf = OneVsRestClassifier(DecisionTreeClassifier())\n",
            "cross_valid(x_train_valid, y_train_valid, clf, verbose=True, balance_cls=True)\n",
            "test(clf, x_test, y_test)"
         ]
      },
      {
         "cell_type": "markdown",
         "metadata": {},
         "source": [
            "### OneVsRestClassifier with Random Forest as base model"
         ]
      },
      {
         "cell_type": "markdown",
         "metadata": {},
         "source": [
            "Without balance"
         ]
      },
      {
         "cell_type": "code",
         "execution_count": 15,
         "metadata": {},
         "outputs": [
            {
               "name": "stdout",
               "output_type": "stream",
               "text": [
                  "Validation data\n",
                  "macro beta f1: 0.6418780682098323\n",
                  "weighted beta f1: 0.8876684508310535\n",
                  "Round 0 macro beta f1-score: 0.6418780682098323\n",
                  "Round 0 weighted beta f1-score: 0.8876684508310535\n",
                  "macro beta f1: 0.6448523267162342\n",
                  "weighted beta f1: 0.8876109198462475\n",
                  "Round 1 macro beta f1-score: 0.6448523267162342\n",
                  "Round 1 weighted beta f1-score: 0.8876109198462475\n",
                  "macro beta f1: 0.6414362416704645\n",
                  "weighted beta f1: 0.8874386922757742\n",
                  "Round 2 macro beta f1-score: 0.6414362416704645\n",
                  "Round 2 weighted beta f1-score: 0.8874386922757742\n",
                  "macro beta f1: 0.6445348434879534\n",
                  "weighted beta f1: 0.8880354984040277\n",
                  "Round 3 macro beta f1-score: 0.6445348434879534\n",
                  "Round 3 weighted beta f1-score: 0.8880354984040277\n",
                  "macro beta f1: 0.6415594925561677\n",
                  "weighted beta f1: 0.8875217328390691\n",
                  "Round 4 macro beta f1-score: 0.6415594925561677\n",
                  "Round 4 weighted beta f1-score: 0.8875217328390691\n",
                  "average macro beta f1-score after kfold: 0.6428521945281305\n",
                  "average weighted beta f1-score after kfold: 0.8876550588392345\n",
                  "Testing data:\n",
                  "              precision    recall  f1-score   support\n",
                  "\n",
                  "           1       0.86      0.26      0.40     13140\n",
                  "           2       0.91      0.97      0.94   1191687\n",
                  "           3       0.84      0.69      0.76    252647\n",
                  "           4       0.56      0.25      0.35     38727\n",
                  "\n",
                  "    accuracy                           0.90   1496201\n",
                  "   macro avg       0.79      0.54      0.61   1496201\n",
                  "weighted avg       0.89      0.90      0.89   1496201\n",
                  "\n",
                  "macro beta f1: 0.6421657544520688\n",
                  "weighted beta f1: 0.8879179590907489\n"
               ]
            }
         ],
         "source": [
            "clf = OneVsRestClassifier(RandomForestClassifier())\n",
            "cross_valid(x_train_valid, y_train_valid, clf, verbose=True, balance_cls=False)\n",
            "test(clf, x_test, y_test)"
         ]
      },
      {
         "cell_type": "markdown",
         "metadata": {},
         "source": [
            "Balance"
         ]
      },
      {
         "cell_type": "code",
         "execution_count": 16,
         "metadata": {},
         "outputs": [
            {
               "name": "stdout",
               "output_type": "stream",
               "text": [
                  "Validation data\n",
                  "After under sampling:\n",
                  "Length of training data: 168452, and its distribution among each severity Counter({1: 42113, 2: 42113, 3: 42113, 4: 42113})\n",
                  "macro beta f1: 0.46619710336394715\n",
                  "weighted beta f1: 0.7025510142032034\n",
                  "Round 0 macro beta f1-score: 0.46619710336394715\n",
                  "Round 0 weighted beta f1-score: 0.7025510142032034\n",
                  "After under sampling:\n",
                  "Length of training data: 168160, and its distribution among each severity Counter({1: 42040, 2: 42040, 3: 42040, 4: 42040})\n",
                  "macro beta f1: 0.46605442837926514\n",
                  "weighted beta f1: 0.7017701261183652\n",
                  "Round 1 macro beta f1-score: 0.46605442837926514\n",
                  "Round 1 weighted beta f1-score: 0.7017701261183652\n",
                  "After under sampling:\n",
                  "Length of training data: 168652, and its distribution among each severity Counter({1: 42163, 2: 42163, 3: 42163, 4: 42163})\n",
                  "macro beta f1: 0.4662861652531417\n",
                  "weighted beta f1: 0.7029282611502463\n",
                  "Round 2 macro beta f1-score: 0.4662861652531417\n",
                  "Round 2 weighted beta f1-score: 0.7029282611502463\n",
                  "After under sampling:\n",
                  "Length of training data: 167660, and its distribution among each severity Counter({1: 41915, 2: 41915, 3: 41915, 4: 41915})\n",
                  "macro beta f1: 0.46589511195511607\n",
                  "weighted beta f1: 0.7009861377613947\n",
                  "Round 3 macro beta f1-score: 0.46589511195511607\n",
                  "Round 3 weighted beta f1-score: 0.7009861377613947\n",
                  "After under sampling:\n",
                  "Length of training data: 168020, and its distribution among each severity Counter({1: 42005, 2: 42005, 3: 42005, 4: 42005})\n",
                  "macro beta f1: 0.4668226041159791\n",
                  "weighted beta f1: 0.7030401021692869\n",
                  "Round 4 macro beta f1-score: 0.4668226041159791\n",
                  "Round 4 weighted beta f1-score: 0.7030401021692869\n",
                  "average macro beta f1-score after kfold: 0.46625108261348985\n",
                  "average weighted beta f1-score after kfold: 0.7022551282804993\n",
                  "Testing data:\n",
                  "              precision    recall  f1-score   support\n",
                  "\n",
                  "           1       0.10      0.93      0.18     13140\n",
                  "           2       0.97      0.59      0.74   1191687\n",
                  "           3       0.53      0.76      0.63    252647\n",
                  "           4       0.12      0.86      0.21     38727\n",
                  "\n",
                  "    accuracy                           0.63   1496201\n",
                  "   macro avg       0.43      0.79      0.44   1496201\n",
                  "weighted avg       0.87      0.63      0.70   1496201\n",
                  "\n",
                  "macro beta f1: 0.4667462420372666\n",
                  "weighted beta f1: 0.7032715235226725\n"
               ]
            }
         ],
         "source": [
            "clf = OneVsRestClassifier(RandomForestClassifier())\n",
            "cross_valid(x_train_valid, y_train_valid, clf, verbose=True, balance_cls=True)\n",
            "test(clf, x_test, y_test)"
         ]
      }
   ],
   "metadata": {
      "kernelspec": {
         "display_name": ".venv",
         "language": "python",
         "name": "python3"
      },
      "language_info": {
         "codemirror_mode": {
            "name": "ipython",
            "version": 3
         },
         "file_extension": ".py",
         "mimetype": "text/x-python",
         "name": "python",
         "nbconvert_exporter": "python",
         "pygments_lexer": "ipython3",
         "version": "3.9.18"
      }
   },
   "nbformat": 4,
   "nbformat_minor": 2
}
